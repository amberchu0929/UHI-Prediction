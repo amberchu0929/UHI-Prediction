{
 "cells": [
  {
   "cell_type": "markdown",
   "id": "6900ff70",
   "metadata": {},
   "source": [
    "\n",
    "# Predicting Urban Heat Island (UHI) Intensity Using Satellite Data\n",
    "\n",
    "## Introduction\n",
    "Urban Heat Island (UHI) effect occurs when urban areas experience higher temperatures than nearby rural areas due to human activities, infrastructure, and reduced vegetation.  \n",
    "This project aims to build a machine learning model to predict UHI intensity using Sentinel-2 multispectral satellite imagery and ground temperature measurements.\n",
    "\n",
    "**Goals:**\n",
    "- Identify environmental factors contributing to UHI\n",
    "- Predict UHI intensity for targeted intervention\n",
    "- Provide insights for urban planning and sustainability\n"
   ]
  },
  {
   "cell_type": "code",
   "execution_count": null,
   "id": "9fac3f9f",
   "metadata": {},
   "outputs": [],
   "source": [
    "\n",
    "# Import standard libraries\n",
    "import pandas as pd\n",
    "import numpy as np\n",
    "import matplotlib.pyplot as plt\n",
    "import seaborn as sns\n",
    "\n",
    "# Machine learning libraries\n",
    "from sklearn.model_selection import train_test_split\n",
    "from sklearn.ensemble import RandomForestRegressor, GradientBoostingRegressor\n",
    "from sklearn.metrics import mean_squared_error, r2_score\n",
    "\n",
    "# For geospatial data (optional if working with raster/vector data)\n",
    "# import rasterio\n",
    "# import geopandas as gpd\n",
    "\n",
    "# Display settings\n",
    "sns.set(style=\"whitegrid\")\n"
   ]
  },
  {
   "cell_type": "markdown",
   "id": "ad022ae6",
   "metadata": {},
   "source": [
    "\n",
    "## Data Loading\n",
    "The dataset should include:\n",
    "- **NDVI**: Normalized Difference Vegetation Index\n",
    "- **NDBI**: Normalized Difference Built-up Index\n",
    "- **Water Index**: Presence of water bodies\n",
    "- **Temperature**: Ground-truth surface temperature\n",
    "\n",
    "Replace `your_dataset.csv` with your actual dataset file.\n"
   ]
  },
  {
   "cell_type": "code",
   "execution_count": null,
   "id": "f6f61f39",
   "metadata": {},
   "outputs": [],
   "source": [
    "\n",
    "# Load dataset\n",
    "# Example dataset format: ndvi, ndbi, water_index, temperature\n",
    "df = pd.read_csv(\"your_dataset.csv\")\n",
    "\n",
    "# Preview dataset\n",
    "df.head()\n"
   ]
  },
  {
   "cell_type": "markdown",
   "id": "a98b0d4f",
   "metadata": {},
   "source": [
    "\n",
    "## Data Preprocessing\n",
    "Check missing values, handle outliers, and ensure data types are correct.\n"
   ]
  },
  {
   "cell_type": "code",
   "execution_count": null,
   "id": "24ef6f4f",
   "metadata": {},
   "outputs": [],
   "source": [
    "\n",
    "# Check missing values\n",
    "print(df.isnull().sum())\n",
    "\n",
    "# Drop rows with missing values (or use imputation if necessary)\n",
    "df = df.dropna()\n",
    "\n",
    "# Basic statistics\n",
    "df.describe()\n"
   ]
  },
  {
   "cell_type": "markdown",
   "id": "0c0d5379",
   "metadata": {},
   "source": [
    "\n",
    "## Exploratory Data Analysis\n",
    "Visualize relationships between environmental indices and temperature.\n"
   ]
  },
  {
   "cell_type": "code",
   "execution_count": null,
   "id": "7f7eb663",
   "metadata": {},
   "outputs": [],
   "source": [
    "\n",
    "# Pairplot\n",
    "sns.pairplot(df, diag_kind=\"kde\")\n",
    "plt.show()\n",
    "\n",
    "# Correlation heatmap\n",
    "plt.figure(figsize=(8,6))\n",
    "sns.heatmap(df.corr(), annot=True, cmap=\"coolwarm\")\n",
    "plt.title(\"Correlation Heatmap\")\n",
    "plt.show()\n"
   ]
  },
  {
   "cell_type": "markdown",
   "id": "77e38d4d",
   "metadata": {},
   "source": [
    "\n",
    "## Modeling\n",
    "Train and evaluate Random Forest and Gradient Boosting models.\n"
   ]
  },
  {
   "cell_type": "code",
   "execution_count": null,
   "id": "233a47e7",
   "metadata": {},
   "outputs": [],
   "source": [
    "\n",
    "# Define features and target\n",
    "X = df.drop(columns=[\"temperature\"])\n",
    "y = df[\"temperature\"]\n",
    "\n",
    "# Split data\n",
    "X_train, X_test, y_train, y_test = train_test_split(X, y, test_size=0.2, random_state=42)\n",
    "\n",
    "# Random Forest\n",
    "rf = RandomForestRegressor(random_state=42)\n",
    "rf.fit(X_train, y_train)\n",
    "rf_preds = rf.predict(X_test)\n",
    "\n",
    "# Gradient Boosting\n",
    "gb = GradientBoostingRegressor(random_state=42)\n",
    "gb.fit(X_train, y_train)\n",
    "gb_preds = gb.predict(X_test)\n",
    "\n",
    "# Evaluate\n",
    "def evaluate_model(y_true, y_pred, model_name):\n",
    "    rmse = mean_squared_error(y_true, y_pred, squared=False)\n",
    "    r2 = r2_score(y_true, y_pred)\n",
    "    print(f\"{model_name} - RMSE: {rmse:.2f}, R²: {r2:.2f}\")\n",
    "\n",
    "evaluate_model(y_test, rf_preds, \"Random Forest\")\n",
    "evaluate_model(y_test, gb_preds, \"Gradient Boosting\")\n"
   ]
  },
  {
   "cell_type": "markdown",
   "id": "cf504c06",
   "metadata": {},
   "source": [
    "\n",
    "## Feature Importance\n",
    "Identify which features most influence the UHI intensity.\n"
   ]
  },
  {
   "cell_type": "code",
   "execution_count": null,
   "id": "d7af3bb3",
   "metadata": {},
   "outputs": [],
   "source": [
    "\n",
    "# Feature importance from Random Forest\n",
    "importances = rf.feature_importances_\n",
    "feature_names = X.columns\n",
    "\n",
    "feat_importances = pd.Series(importances, index=feature_names)\n",
    "feat_importances.sort_values().plot(kind=\"barh\", figsize=(8,5))\n",
    "plt.title(\"Feature Importance (Random Forest)\")\n",
    "plt.show()\n"
   ]
  },
  {
   "cell_type": "markdown",
   "id": "4e31a0af",
   "metadata": {},
   "source": [
    "\n",
    "## Conclusion & Recommendations\n",
    "- **NDVI** (vegetation cover) has a negative correlation with UHI → More vegetation = lower temperature.\n",
    "- **NDBI** (built-up areas) has a positive correlation with UHI → Dense urban zones are hotter.\n",
    "- Recommended interventions:\n",
    "  1. Increase vegetation in identified hotspots.\n",
    "  2. Promote vertical greening and green roofs.\n",
    "  3. Target retrofitting in moderate-NDBI areas.\n"
   ]
  }
 ],
 "metadata": {
  "kernelspec": {
   "display_name": "Python 3 (ipykernel)",
   "language": "python",
   "name": "python3"
  },
  "language_info": {
   "codemirror_mode": {
    "name": "ipython",
    "version": 3
   },
   "file_extension": ".py",
   "mimetype": "text/x-python",
   "name": "python",
   "nbconvert_exporter": "python",
   "pygments_lexer": "ipython3",
   "version": "3.12.3"
  },
  "toc": {
   "base_numbering": 1,
   "nav_menu": {},
   "number_sections": true,
   "sideBar": true,
   "skip_h1_title": false,
   "title_cell": "Table of Contents",
   "title_sidebar": "Contents",
   "toc_cell": false,
   "toc_position": {},
   "toc_section_display": true,
   "toc_window_display": false
  },
  "varInspector": {
   "cols": {
    "lenName": 16,
    "lenType": 16,
    "lenVar": 40
   },
   "kernels_config": {
    "python": {
     "delete_cmd_postfix": "",
     "delete_cmd_prefix": "del ",
     "library": "var_list.py",
     "varRefreshCmd": "print(var_dic_list())"
    },
    "r": {
     "delete_cmd_postfix": ") ",
     "delete_cmd_prefix": "rm(",
     "library": "var_list.r",
     "varRefreshCmd": "cat(var_dic_list()) "
    }
   },
   "types_to_exclude": [
    "module",
    "function",
    "builtin_function_or_method",
    "instance",
    "_Feature"
   ],
   "window_display": false
  }
 },
 "nbformat": 4,
 "nbformat_minor": 5
}
